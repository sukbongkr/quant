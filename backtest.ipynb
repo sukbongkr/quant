{
 "cells": [
  {
   "cell_type": "code",
   "execution_count": 1,
   "metadata": {},
   "outputs": [],
   "source": [
    "import sqlite3\n",
    "import pandas as pd\n",
    "import bt\n",
    "from matplotlib import pyplot as plt\n",
    "import numpy as np"
   ]
  },
  {
   "cell_type": "code",
   "execution_count": 2,
   "metadata": {},
   "outputs": [],
   "source": [
    "%matplotlib inline"
   ]
  },
  {
   "cell_type": "code",
   "execution_count": 3,
   "metadata": {},
   "outputs": [],
   "source": [
    "#stock_data.db에 접속\n",
    "conn = sqlite3.connect('stock_data.db')\n",
    "cursor = conn.cursor()"
   ]
  },
  {
   "cell_type": "code",
   "execution_count": 4,
   "metadata": {},
   "outputs": [],
   "source": [
    "#database의 모든 데이터를 로드 \n",
    "query = \"SELECT ticker, 이름, 날짜, 시가, 고가, 저가, 종가, 거래량, 거래대금, 등락률, BPS, PER, PBR, EPS, DIV, DPS, 기관합계, 기타법인, 개인, 외국인합계, 전체, 시가총액, 거래량2, 거래대금2, 상장주식수, 상장주식수2, 보유수량, 지분율, 한도수량, 한도소진률 FROM stock_data WHERE 날짜 >= '2002-01-01'\"\n",
    "\n",
    "# SQL 쿼리 결과를 바로 pandas 데이터프레임으로 읽어옴 \n",
    "df = pd.read_sql(query, conn, parse_dates=['날짜'])\n"
   ]
  },
  {
   "cell_type": "code",
   "execution_count": 5,
   "metadata": {},
   "outputs": [],
   "source": [
    "# 데이터프레임을 피벗하여 각 종목별 종가 데이터를 열로 만듦\n",
    "prices_df = df.pivot(index='날짜', columns='이름', values='종가')\n",
    "\n",
    "# 데이터프레임을 피벗하여 각 종목별 PBR 데이터를 열로 만듦\n",
    "pbr_df = df.pivot(index='날짜', columns='이름', values='PBR')\n",
    "\n",
    "# 데이터프레임을 피벗하여 각 종목별 PER 데이터를 열로 만듦\n",
    "per_df = df.pivot(index='날짜', columns='이름', values='PER')"
   ]
  },
  {
   "cell_type": "code",
   "execution_count": 6,
   "metadata": {},
   "outputs": [],
   "source": [
    "prices_df.fillna(method='ffill', inplace=True)\n",
    "pbr_df.fillna(value = 0, inplace=True)\n",
    "per_df.fillna(value = 0, inplace=True)"
   ]
  },
  {
   "cell_type": "code",
   "execution_count": 31,
   "metadata": {},
   "outputs": [],
   "source": [
    "class LowPBR(bt.Algo):\n",
    "    def __init__(self, data_pbr, top_n=30):\n",
    "        self.data_pbr = data_pbr\n",
    "        self.top_n = top_n\n",
    "\n",
    "        \n",
    "    def __call__(self, target):\n",
    "        # 현재 날짜의 PBR을 가져옴\n",
    "        pbr = self.data_pbr.loc[target.now]\n",
    "\n",
    "        #pbr이 0인 경우는 제외\n",
    "        pbr = pbr[pbr > 0]\n",
    "\n",
    "        # PBR이 낮은 순서대로 상위 N개 종목을 선택\n",
    "        selected_stocks = pbr.sort_values().index[:self.top_n]\n",
    "\n",
    "        target.temp['selected'] = selected_stocks\n",
    "\n",
    "        if 'selected' not in target.temp:\n",
    "            return False\n",
    "        \n",
    "\n",
    "        return True"
   ]
  },
  {
   "cell_type": "code",
   "execution_count": 32,
   "metadata": {},
   "outputs": [],
   "source": [
    "class LowPER(bt.Algo):\n",
    "    def __init__(self, data_per, top_n=30):\n",
    "        self.data_per = data_per\n",
    "        self.top_n = top_n\n",
    "\n",
    "        \n",
    "    def __call__(self, target):\n",
    "        # 현재 날짜의 PBR을 가져옴\n",
    "        per = self.data_per.loc[target.now]\n",
    "\n",
    "        #pbr이 0인 경우는 제외\n",
    "        per = per[per > 0]\n",
    "\n",
    "        # PBR이 낮은 순서대로 상위 N개 종목을 선택\n",
    "        selected_stocks = per.sort_values().index[:self.top_n]\n",
    "\n",
    "        print(selected_stocks)\n",
    "\n",
    "        target.temp['selected'] = selected_stocks\n",
    "\n",
    "        if 'selected' not in target.temp:\n",
    "            return False\n",
    "\n",
    "        return True"
   ]
  },
  {
   "cell_type": "code",
   "execution_count": 41,
   "metadata": {},
   "outputs": [],
   "source": [
    "#pbr이 x이하인 종목을 선정 algo\n",
    "class LowPBR_below(bt.Algo):\n",
    "    def __init__(self, data_pbr, x=3):\n",
    "        self.data_pbr = data_pbr\n",
    "        self.x = x\n",
    "        \n",
    "    def __call__(self, target):\n",
    "        # 현재 날짜의 PBR을 가져옴\n",
    "        pbr = self.data_pbr.loc[target.now]\n",
    "\n",
    "        #pbr이 0인 경우는 제외\n",
    "        pbr = pbr[pbr > 0]\n",
    "\n",
    "        #pbr이 x이하인 종목을 선택\n",
    "        selected_stocks = pbr[pbr <= self.x].index\n",
    " \n",
    "        target.temp['selected'] = selected_stocks\n",
    "\n",
    "        if 'selected' not in target.temp:\n",
    "            return False\n",
    "\n",
    "        return True"
   ]
  },
  {
   "cell_type": "code",
   "execution_count": 52,
   "metadata": {},
   "outputs": [],
   "source": [
    "#per이 x이하인 종목을 선정 algo\n",
    "class LowPER_below(bt.Algo):\n",
    "    def __init__(self, data_per, x=3):\n",
    "        self.data_per = data_per\n",
    "        self.x = x\n",
    "        \n",
    "    def __call__(self, target):\n",
    "        # 현재 날짜의 PBR을 가져옴\n",
    "        per = self.data_per.loc[target.now]\n",
    "\n",
    "        #per이 0인 경우는 제외\n",
    "        per = per[per > 0]\n",
    "\n",
    "        #per이 x이하인 종목을 선택\n",
    "        selected_stocks = per[per <= self.x].index\n",
    " \n",
    "        target.temp['selected'] = selected_stocks\n",
    "\n",
    "        if 'selected' not in target.temp:\n",
    "            return False\n",
    "\n",
    "        return True"
   ]
  },
  {
   "cell_type": "code",
   "execution_count": 53,
   "metadata": {},
   "outputs": [],
   "source": [
    "# 전략 및 백테스팅 설정\n",
    "strategy = bt.Strategy('s1', [bt.algos.RunQuarterly(), bt.algos.SelectAll(), bt.algos.WeighEqually(), bt.algos.Rebalance()])\n",
    "bt_backtest = bt.Backtest(strategy, prices_df)\n",
    "bt_result = bt.run(bt_backtest)"
   ]
  },
  {
   "cell_type": "code",
   "execution_count": 54,
   "metadata": {},
   "outputs": [
    {
     "name": "stdout",
     "output_type": "stream",
     "text": [
      "Stat                 s1\n",
      "-------------------  ----------\n",
      "Start                2002-01-01\n",
      "End                  2023-04-28\n",
      "Risk-free rate       0.00%\n",
      "\n",
      "Total Return         1923.74%\n",
      "Daily Sharpe         0.80\n",
      "Daily Sortino        1.22\n",
      "CAGR                 15.15%\n",
      "Max Drawdown         -67.48%\n",
      "Calmar Ratio         0.22\n",
      "\n",
      "MTD                  2.61%\n",
      "3m                   -0.34%\n",
      "6m                   11.45%\n",
      "YTD                  8.32%\n",
      "1Y                   -1.45%\n",
      "3Y (ann.)            25.77%\n",
      "5Y (ann.)            7.01%\n",
      "10Y (ann.)           13.65%\n",
      "Since Incep. (ann.)  15.15%\n",
      "\n",
      "Daily Sharpe         0.80\n",
      "Daily Sortino        1.22\n",
      "Daily Mean (ann.)    16.54%\n",
      "Daily Vol (ann.)     20.70%\n",
      "Daily Skew           -0.82\n",
      "Daily Kurt           7.62\n",
      "Best Day             9.89%\n",
      "Worst Day            -12.80%\n",
      "\n",
      "Monthly Sharpe       0.66\n",
      "Monthly Sortino      1.21\n",
      "Monthly Mean (ann.)  16.98%\n",
      "Monthly Vol (ann.)   25.92%\n",
      "Monthly Skew         -0.15\n",
      "Monthly Kurt         2.21\n",
      "Best Month           24.57%\n",
      "Worst Month          -33.86%\n",
      "\n",
      "Yearly Sharpe        0.58\n",
      "Yearly Sortino       1.74\n",
      "Yearly Mean          19.48%\n",
      "Yearly Vol           33.66%\n",
      "Yearly Skew          0.50\n",
      "Yearly Kurt          0.39\n",
      "Best Year            93.72%\n",
      "Worst Year           -48.41%\n",
      "\n",
      "Avg. Drawdown        -4.40%\n",
      "Avg. Drawdown Days   62.43\n",
      "Avg. Up Month        5.96%\n",
      "Avg. Down Month      -5.18%\n",
      "Win Year %           71.43%\n",
      "Win 12m %            68.98%\n"
     ]
    },
    {
     "data": {
      "image/png": "[encoded data removed]",
      "text/plain": [
       "<Figure size 1000x600 with 1 Axes>"
      ]
     },
     "metadata": {},
     "output_type": "display_data"
    }
   ],
   "source": [
    "# 백테스팅 결과 출력\n",
    "bt_result.prices.rebase().plot(figsize=(10, 6))\n",
    "bt_result.display()"
   ]
  },
  {
   "cell_type": "code",
   "execution_count": 56,
   "metadata": {},
   "outputs": [
    {
     "data": {
      "text/plain": [
       "Index([], dtype='object', name='이름')"
      ]
     },
     "execution_count": 56,
     "metadata": {},
     "output_type": "execute_result"
    }
   ],
   "source": []
  }
 ],
 "metadata": {
  "kernelspec": {
   "display_name": "quant",
   "language": "python",
   "name": "python3"
  },
  "language_info": {
   "codemirror_mode": {
    "name": "ipython",
    "version": 3
   },
   "file_extension": ".py",
   "mimetype": "text/x-python",
   "name": "python",
   "nbconvert_exporter": "python",
   "pygments_lexer": "ipython3",
   "version": "3.9.16"
  },
  "orig_nbformat": 4
 },
 "nbformat": 4,
 "nbformat_minor": 2
}
